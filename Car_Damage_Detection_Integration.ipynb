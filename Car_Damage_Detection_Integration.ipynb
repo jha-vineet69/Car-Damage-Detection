{
  "nbformat": 4,
  "nbformat_minor": 0,
  "metadata": {
    "colab": {
      "name": "Car Damage Detection - Integration.ipynb",
      "provenance": [],
      "collapsed_sections": [],
      "authorship_tag": "ABX9TyNxLQNwxytnUBujo9B7Jfss",
      "include_colab_link": true
    },
    "kernelspec": {
      "name": "python3",
      "display_name": "Python 3"
    },
    "accelerator": "GPU"
  },
  "cells": [
    {
      "cell_type": "markdown",
      "metadata": {
        "id": "view-in-github",
        "colab_type": "text"
      },
      "source": [
        "<a href=\"https://colab.research.google.com/github/jha-vineet69/Car-Damage-Detection/blob/main/Car_Damage_Detection_Integration.ipynb\" target=\"_parent\"><img src=\"https://colab.research.google.com/assets/colab-badge.svg\" alt=\"Open In Colab\"/></a>"
      ]
    },
    {
      "cell_type": "code",
      "metadata": {
        "colab": {
          "base_uri": "https://localhost:8080/"
        },
        "id": "Ja9jVXqMkme7",
        "outputId": "13e8f5ee-3381-4be7-a80f-e180ce28be17"
      },
      "source": [
        "from google.colab import drive\r\n",
        "drive.mount('/content/drive')"
      ],
      "execution_count": null,
      "outputs": [
        {
          "output_type": "stream",
          "text": [
            "Mounted at /content/drive\n"
          ],
          "name": "stdout"
        }
      ]
    },
    {
      "cell_type": "code",
      "metadata": {
        "id": "R9lh6l6em0lL",
        "colab": {
          "base_uri": "https://localhost:8080/",
          "height": 35
        },
        "outputId": "ff311694-449b-407d-e71c-5ce7a92412f6"
      },
      "source": [
        "#Import Libraries\r\n",
        "\r\n",
        "import os\r\n",
        "os.environ['TF_CPP_MIN_LOG_LEVEL'] = '2' \r\n",
        "import glob\r\n",
        "import numpy as np\r\n",
        "import h5py\r\n",
        "import json\r\n",
        "import pickle as pk\r\n",
        "from urllib.request import urlretrieve\r\n",
        "\r\n",
        "# other imports\r\n",
        "import warnings\r\n",
        "warnings.filterwarnings('ignore')\r\n",
        "\r\n",
        "# keras imports\r\n",
        "import tensorflow as tf\r\n",
        "from keras.applications.vgg16 import VGG16, preprocess_input\r\n",
        "from keras.preprocessing import image\r\n",
        "from keras.models import Model"
      ],
      "execution_count": null,
      "outputs": [
        {
          "output_type": "execute_result",
          "data": {
            "application/vnd.google.colaboratory.intrinsic+json": {
              "type": "string"
            },
            "text/plain": [
              "'2.4.0'"
            ]
          },
          "metadata": {
            "tags": []
          },
          "execution_count": 2
        }
      ]
    },
    {
      "cell_type": "code",
      "metadata": {
        "id": "r3hl-jnzm0iZ",
        "colab": {
          "base_uri": "https://localhost:8080/"
        },
        "outputId": "e748dc14-cde7-45a5-f16b-50e46353d525"
      },
      "source": [
        "#Loading Models for various checks\r\n",
        "first_check = VGG16(weights='imagenet')\r\n",
        "second_check = pk.load(open(\"/content/drive/MyDrive/Colab Notebooks/Minor Project Sem 7/classifier.pickle\", 'rb')) #damaged vs whole\r\n",
        "third_check = pk.load(open(\"/content/drive/MyDrive/Colab Notebooks/Minor Project Sem 7/classifier2.pickle\", 'rb')) # Front Rear Side\r\n",
        "fourth_check = pk.load(open(\"/content/drive/MyDrive/Colab Notebooks/Minor Project Sem 7/classifier3.pickle\", 'rb')) # Minor Moderate Severe"
      ],
      "execution_count": null,
      "outputs": [
        {
          "output_type": "stream",
          "text": [
            "Downloading data from https://storage.googleapis.com/tensorflow/keras-applications/vgg16/vgg16_weights_tf_dim_ordering_tf_kernels.h5\n",
            "553467904/553467096 [==============================] - 5s 0us/step\n"
          ],
          "name": "stdout"
        }
      ]
    },
    {
      "cell_type": "code",
      "metadata": {
        "id": "Rh9z82JPm0fZ"
      },
      "source": [
        "# Loading  valid categories for identifying cars using VGG16\r\n",
        "with open('/content/drive/MyDrive/Colab Notebooks/Minor Project Sem 7/vgg16_cat_list.pk', 'rb') as f:\r\n",
        "    cat_counter = pk.load(f)"
      ],
      "execution_count": null,
      "outputs": []
    },
    {
      "cell_type": "code",
      "metadata": {
        "colab": {
          "base_uri": "https://localhost:8080/"
        },
        "id": "uDF-zy4Rm0ci",
        "outputId": "bf4ac888-ee48-4c35-dead-3e691b7f491a"
      },
      "source": [
        "# shortlisting top 27 Categories that VGG16 stores for cars (Can be altered for less or more)\r\n",
        "cat_list  = [k for k, v in cat_counter.most_common()[:27]]\r\n",
        "cat_list"
      ],
      "execution_count": null,
      "outputs": [
        {
          "output_type": "execute_result",
          "data": {
            "text/plain": [
              "[('n03770679', 'minivan'),\n",
              " ('n04285008', 'sports_car'),\n",
              " ('n03100240', 'convertible'),\n",
              " ('n02814533', 'beach_wagon'),\n",
              " ('n03930630', 'pickup'),\n",
              " ('n03670208', 'limousine'),\n",
              " ('n04037443', 'racer'),\n",
              " ('n03594945', 'jeep'),\n",
              " ('n03769881', 'minibus'),\n",
              " ('n04461696', 'tow_truck'),\n",
              " ('n03459775', 'grille'),\n",
              " ('n02930766', 'cab'),\n",
              " ('n02974003', 'car_wheel'),\n",
              " ('n03796401', 'moving_van'),\n",
              " ('n03977966', 'police_van'),\n",
              " ('n04252225', 'snowplow'),\n",
              " ('n02701002', 'ambulance'),\n",
              " ('n04065272', 'recreational_vehicle'),\n",
              " ('n04467665', 'trailer_truck'),\n",
              " ('n03445924', 'golfcart'),\n",
              " ('n03345487', 'fire_engine'),\n",
              " ('n03791053', 'motor_scooter'),\n",
              " ('n03776460', 'mobile_home'),\n",
              " ('n04252077', 'snowmobile'),\n",
              " ('n02704792', 'amphibian'),\n",
              " ('n03417042', 'garbage_truck'),\n",
              " ('n02965783', 'car_mirror')]"
            ]
          },
          "metadata": {
            "tags": []
          },
          "execution_count": 5
        }
      ]
    },
    {
      "cell_type": "code",
      "metadata": {
        "id": "A_doeaHCm0Zl"
      },
      "source": [
        "CLASS_INDEX = None\r\n",
        "CLASS_INDEX_PATH = '/content/drive/MyDrive/Colab Notebooks/Minor Project Sem 7/imagenet_class_index.json'"
      ],
      "execution_count": null,
      "outputs": []
    },
    {
      "cell_type": "code",
      "metadata": {
        "id": "PlC2x0uHm0W4"
      },
      "source": [
        "def get_predictions(preds,top=5):\r\n",
        "    global CLASS_INDEX\r\n",
        "    \r\n",
        "    #Load the jason file\r\n",
        "    CLASS_INDEX = json.load(open(CLASS_INDEX_PATH))\r\n",
        "    \r\n",
        "    #get the results\r\n",
        "    results = []\r\n",
        "    for pred in preds:\r\n",
        "        top_indices = pred.argsort()[-top:][::-1]\r\n",
        "        result = [tuple(CLASS_INDEX[str(i)]) + (pred[i],) for i in top_indices]\r\n",
        "        result.sort(key=lambda x: x[2], reverse=True)\r\n",
        "        results.append(result)\r\n",
        "    return results"
      ],
      "execution_count": null,
      "outputs": []
    },
    {
      "cell_type": "code",
      "metadata": {
        "id": "_3TSQ23ym0UE"
      },
      "source": [
        "def prepare_img_224(img_path):\r\n",
        "    # urlretrieve(img_path, 'image.jpg')\r\n",
        "    img = image.load_img(img_path, target_size=(224, 224))\r\n",
        "    x = image.img_to_array(img)\r\n",
        "    x = np.expand_dims(x, axis=0)\r\n",
        "    x = preprocess_input(x)\r\n",
        "    return x"
      ],
      "execution_count": null,
      "outputs": []
    },
    {
      "cell_type": "markdown",
      "metadata": {
        "id": "uLMy8EJOo0IK"
      },
      "source": [
        "### First Check - Car or Not?"
      ]
    },
    {
      "cell_type": "code",
      "metadata": {
        "id": "jZEGbFhqm0RR"
      },
      "source": [
        "def car_categories_check(img_224, model):\r\n",
        "    print (\"Validating that this is a picture of your car...\")\r\n",
        "    out = model.predict(img_224)\r\n",
        "    top = get_predictions(out, top=5)\r\n",
        "    for j in top[0]:\r\n",
        "        if j[0:2] in cat_list:\r\n",
        "            print (\"Car Check Passed!!!\")\r\n",
        "            print (\"\\n\")\r\n",
        "            return True \r\n",
        "    return False "
      ],
      "execution_count": null,
      "outputs": []
    },
    {
      "cell_type": "markdown",
      "metadata": {
        "id": "S351JechpAv0"
      },
      "source": [
        "### Second Check - Damaged or Not?"
      ]
    },
    {
      "cell_type": "code",
      "metadata": {
        "id": "iVyJc8zEm0O6"
      },
      "source": [
        "def car_damage_check(img_224, classifier):\r\n",
        "    print (\"Validating that damage exists...\")\r\n",
        "    base_model = first_check\r\n",
        "    train_labels = ['Damaged', 'Not Damaged']\r\n",
        "    \r\n",
        "    model = Model(inputs=base_model.input, outputs=base_model.get_layer('fc1').output)\r\n",
        "    feature = model.predict(img_224)\r\n",
        "    flat = feature.flatten()\r\n",
        "    flat = np.expand_dims(flat, axis=0)\r\n",
        "    preds = classifier.predict(flat)\r\n",
        "    prediction = train_labels[preds[0]]\r\n",
        "    \r\n",
        "    if train_labels[preds[0]] == 'Damaged':\r\n",
        "        print (\"Validation complete - proceeding to location and severity determination\")\r\n",
        "        print (\"\\n\")\r\n",
        "        return True \r\n",
        "    else:\r\n",
        "        return False"
      ],
      "execution_count": null,
      "outputs": []
    },
    {
      "cell_type": "markdown",
      "metadata": {
        "id": "SGfla2RQpHgq"
      },
      "source": [
        "### Third Check - Damage Location."
      ]
    },
    {
      "cell_type": "code",
      "metadata": {
        "id": "EEjIIp68m0MF"
      },
      "source": [
        "def location_assessment(img_224, classifier):\r\n",
        "    print (\"Validating the damage area - Front, Rear or Side\")\r\n",
        "    base_model = first_check\r\n",
        "    train_labels = ['Front', 'Rear', 'Side']\r\n",
        "    \r\n",
        "    model = Model(inputs=base_model.input, outputs=base_model.get_layer('fc1').output)\r\n",
        "    feature = model.predict(img_224)\r\n",
        "    flat = feature.flatten()\r\n",
        "    flat = np.expand_dims(flat, axis=0)\r\n",
        "    preds = classifier.predict(flat)\r\n",
        "    prediction = train_labels[preds[0]]\r\n",
        "    print (\"Your Car is damaged at - \" + train_labels[preds[0]])\r\n",
        "    print (\"Location assesment complete\")\r\n",
        "    print(\"\\n\")"
      ],
      "execution_count": null,
      "outputs": []
    },
    {
      "cell_type": "markdown",
      "metadata": {
        "id": "AekIsK3rpOee"
      },
      "source": [
        "### Fourth Check - Damage Severity."
      ]
    },
    {
      "cell_type": "code",
      "metadata": {
        "id": "KQ8O5kD6m0JW"
      },
      "source": [
        "def severity_assessment(img_224, classifier):\r\n",
        "    print (\"Validating the Severity...\")\r\n",
        "    base_model = first_check\r\n",
        "    train_labels = ['Minor', 'Moderate', 'Severe']\r\n",
        "    \r\n",
        "    model = Model(inputs=base_model.input, outputs=base_model.get_layer('fc1').output)\r\n",
        "    feature = model.predict(img_224)\r\n",
        "    flat = feature.flatten()\r\n",
        "    flat = np.expand_dims(flat, axis=0)\r\n",
        "    preds = classifier.predict(flat)\r\n",
        "    prediction = train_labels[preds[0]]\r\n",
        "    print (\"Your Car damage impact is - \" + train_labels[preds[0]])\r\n",
        "    print (\"Severity assessment complete\")"
      ],
      "execution_count": null,
      "outputs": []
    },
    {
      "cell_type": "markdown",
      "metadata": {
        "id": "Q_vJp6mlpYoq"
      },
      "source": [
        "### Engine"
      ]
    },
    {
      "cell_type": "code",
      "metadata": {
        "id": "q3qWSovNm0G_"
      },
      "source": [
        "def engine(img):\r\n",
        "    while True:\r\n",
        "        try:\r\n",
        "            img_224 = prepare_img_224(img)\r\n",
        "            g1 = car_categories_check(img_224, first_check)\r\n",
        "\r\n",
        "            if g1 is False:\r\n",
        "                print (\"Are you sure this is a picture of your car? Please submit another picture of the damage.\")\r\n",
        "                print (\"Hint: Try zooming in/out, using a different angle or different lighting.\")\r\n",
        "                break\r\n",
        "\r\n",
        "            g2 = car_damage_check(img_224, second_check)\r\n",
        "\r\n",
        "            if g2 is False:\r\n",
        "                print (\"Are you sure that your car is damaged? Please submit another picture of the damage.\")\r\n",
        "                print (\"Hint: Try zooming in/out, using a different angle or different lighting.\")\r\n",
        "                break\r\n",
        "\r\n",
        "            x = location_assessment(img_224, third_check)\r\n",
        "            y = severity_assessment(img_224, fourth_check)\r\n",
        "            break\r\n",
        "        except:\r\n",
        "            print (\"Image not accessible. Please try again.\")\r\n",
        "            break"
      ],
      "execution_count": null,
      "outputs": []
    },
    {
      "cell_type": "code",
      "metadata": {
        "id": "1ia3VlLSm0D-"
      },
      "source": [
        "img_path1 = '/content/drive/MyDrive/Colab Notebooks/Minor Project Sem 7/not-car.jpg'\r\n",
        "img_path2 = '/content/drive/MyDrive/Colab Notebooks/Minor Project Sem 7/undamaged-car.jpg'\r\n",
        "img_path3 = '/content/drive/MyDrive/Colab Notebooks/Minor Project Sem 7/front-damaged-car.jpg'"
      ],
      "execution_count": null,
      "outputs": []
    },
    {
      "cell_type": "code",
      "metadata": {
        "colab": {
          "base_uri": "https://localhost:8080/"
        },
        "id": "eNwDXZbVmz5b",
        "outputId": "ed38cbad-071f-43f8-bd1e-aff4f0d8ceab"
      },
      "source": [
        "engine(img_path1)"
      ],
      "execution_count": null,
      "outputs": [
        {
          "output_type": "stream",
          "text": [
            "Validating that this is a picture of your car...\n",
            "Are you sure this is a picture of your car? Please submit another picture of the damage.\n",
            "Hint: Try zooming in/out, using a different angle or different lighting.\n"
          ],
          "name": "stdout"
        }
      ]
    },
    {
      "cell_type": "code",
      "metadata": {
        "colab": {
          "base_uri": "https://localhost:8080/"
        },
        "id": "e3nRPLk0mz-v",
        "outputId": "61f0efd5-8632-49aa-81d5-82bcbfa0f8fb"
      },
      "source": [
        "engine(img_path2)"
      ],
      "execution_count": null,
      "outputs": [
        {
          "output_type": "stream",
          "text": [
            "Validating that this is a picture of your car...\n",
            "Car Check Passed!!!\n",
            "\n",
            "\n",
            "Validating that damage exists...\n",
            "Are you sure that your car is damaged? Please submit another picture of the damage.\n",
            "Hint: Try zooming in/out, using a different angle or different lighting.\n"
          ],
          "name": "stdout"
        }
      ]
    },
    {
      "cell_type": "code",
      "metadata": {
        "colab": {
          "base_uri": "https://localhost:8080/"
        },
        "id": "5lL8sYxDmz7-",
        "outputId": "491c6042-fa29-409c-d528-1669e94bc7c9"
      },
      "source": [
        "engine(img_path3)"
      ],
      "execution_count": null,
      "outputs": [
        {
          "output_type": "stream",
          "text": [
            "Validating that this is a picture of your car...\n",
            "Car Check Passed!!!\n",
            "\n",
            "\n",
            "Validating that damage exists...\n",
            "Validation complete - proceeding to location and severity determination\n",
            "\n",
            "\n",
            "Validating the damage area - Front, Rear or Side\n",
            "Your Car is damaged at - Front\n",
            "Location assesment complete\n",
            "\n",
            "\n",
            "Validating the Severity...\n",
            "WARNING:tensorflow:5 out of the last 7 calls to <function Model.make_predict_function.<locals>.predict_function at 0x7f36d3f71f28> triggered tf.function retracing. Tracing is expensive and the excessive number of tracings could be due to (1) creating @tf.function repeatedly in a loop, (2) passing tensors with different shapes, (3) passing Python objects instead of tensors. For (1), please define your @tf.function outside of the loop. For (2), @tf.function has experimental_relax_shapes=True option that relaxes argument shapes that can avoid unnecessary retracing. For (3), please refer to https://www.tensorflow.org/guide/function#controlling_retracing and https://www.tensorflow.org/api_docs/python/tf/function for  more details.\n",
            "Your Car damage impact is - Moderate\n",
            "Severity assessment complete\n"
          ],
          "name": "stdout"
        }
      ]
    }
  ]
}