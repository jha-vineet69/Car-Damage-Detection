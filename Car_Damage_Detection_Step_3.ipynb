{
  "nbformat": 4,
  "nbformat_minor": 0,
  "metadata": {
    "colab": {
      "name": "Car Damage Detection - Step 3.ipynb",
      "provenance": [],
      "collapsed_sections": [],
      "authorship_tag": "ABX9TyMyMUzvthHG0BIh04gdwO6D",
      "include_colab_link": true
    },
    "kernelspec": {
      "name": "python3",
      "display_name": "Python 3"
    },
    "accelerator": "GPU"
  },
  "cells": [
    {
      "cell_type": "markdown",
      "metadata": {
        "id": "view-in-github",
        "colab_type": "text"
      },
      "source": [
        "<a href=\"https://colab.research.google.com/github/jha-vineet69/Car-Damage-Detection/blob/main/Car_Damage_Detection_Step_3.ipynb\" target=\"_parent\"><img src=\"https://colab.research.google.com/assets/colab-badge.svg\" alt=\"Open In Colab\"/></a>"
      ]
    },
    {
      "cell_type": "code",
      "metadata": {
        "id": "tSws2bScPVka",
        "colab": {
          "base_uri": "https://localhost:8080/"
        },
        "outputId": "b282e02b-7d22-4765-a977-0f53e14b7b04"
      },
      "source": [
        "from google.colab import drive\r\n",
        "drive.mount('/content/drive')"
      ],
      "execution_count": null,
      "outputs": [
        {
          "output_type": "stream",
          "text": [
            "Mounted at /content/drive\n"
          ],
          "name": "stdout"
        }
      ]
    },
    {
      "cell_type": "code",
      "metadata": {
        "id": "d4F_LcJ2xNeS"
      },
      "source": [
        "#Import Libraries\r\n",
        "\r\n",
        "import os\r\n",
        "import glob\r\n",
        "import datetime\r\n",
        "import numpy as np\r\n",
        "import h5py\r\n",
        "import json\r\n",
        "import pickle\r\n",
        "import time\r\n",
        "import urllib.request\r\n",
        "\r\n",
        "# keras imports\r\n",
        "from keras.applications.vgg16 import VGG16, preprocess_input\r\n",
        "from keras.preprocessing import image\r\n",
        "from keras.models import Model\r\n",
        "\r\n",
        "# imports required packages\r\n",
        "from sklearn.preprocessing import LabelEncoder\r\n",
        "from sklearn.model_selection import train_test_split\r\n",
        "from sklearn.linear_model import LogisticRegression\r\n",
        "from sklearn.metrics import confusion_matrix, accuracy_score, classification_report\r\n",
        "\r\n",
        "# other imports\r\n",
        "import seaborn as sns\r\n",
        "import matplotlib.pyplot as plt\r\n",
        "import warnings\r\n",
        "warnings.filterwarnings('ignore')"
      ],
      "execution_count": null,
      "outputs": []
    },
    {
      "cell_type": "code",
      "metadata": {
        "id": "lWruTMSRxNsK"
      },
      "source": [
        "# Create a dictionary with configuration/setup we will be using\r\n",
        "\r\n",
        "config={\r\n",
        "  \"model\"           : \"vgg16\",\r\n",
        "  \"weights\"         : \"imagenet\",\r\n",
        "  \"include_top\"     : False,\r\n",
        "\r\n",
        "  \"train_path\"      : \"/content/drive/MyDrive/Colab Notebooks/Minor Project Sem 7/data2a/training\",\r\n",
        "  \"test_path\"       : \"/content/drive/MyDrive/Colab Notebooks/Minor Project Sem 7/data2a/validation\",\r\n",
        "  \"features_path\"   : \"/content/drive/MyDrive/Colab Notebooks/Minor Project Sem 7/features2.h5\",\r\n",
        "  \"labels_path\"     : \"/content/drive/MyDrive/Colab Notebooks/Minor Project Sem 7/labels2.h5\",\r\n",
        "  \"classifier_path\" : \"/content/drive/MyDrive/Colab Notebooks/Minor Project Sem 7/classifier2.pickle\",\r\n",
        "  \"model_path\"      : \"/content/drive/MyDrive/Colab Notebooks/Minor Project Sem 7/model2\",\r\n",
        "\r\n",
        "  \"test_size\"       : 0.20,\r\n",
        "  \"seed\"            : 9,\r\n",
        "}"
      ],
      "execution_count": null,
      "outputs": []
    },
    {
      "cell_type": "code",
      "metadata": {
        "id": "9-gncqQ-xNuz"
      },
      "source": [
        "# config variables\r\n",
        "model_name    = config[\"model\"]\r\n",
        "weights     = config[\"weights\"]\r\n",
        "train_path    = config[\"train_path\"]\r\n",
        "features_path   = config[\"features_path\"]\r\n",
        "labels_path   = config[\"labels_path\"]\r\n",
        "test_size     = config[\"test_size\"]\r\n",
        "model_path    = config[\"model_path\"]\r\n",
        "classifier_path = config[\"classifier_path\"]\r\n",
        "seed      = config[\"seed\"]"
      ],
      "execution_count": null,
      "outputs": []
    },
    {
      "cell_type": "code",
      "metadata": {
        "colab": {
          "base_uri": "https://localhost:8080/"
        },
        "id": "n_rfgImYxNxc",
        "outputId": "9b4799dc-63cf-4de1-f160-9e4b611d9c0d"
      },
      "source": [
        "# Here we are loading the base VGG16 model with weights and then excluding the top dense layer\r\n",
        "if model_name == \"vgg16\":\r\n",
        "    base_model = VGG16(weights=weights)\r\n",
        "    model = Model(inputs=base_model.input, outputs=base_model.get_layer('fc1').output)\r\n",
        "    image_size = (224, 224)\r\n",
        "else:\r\n",
        "    base_model = None\r\n",
        "\r\n",
        "print (\"Successfully loaded base model and model...\")"
      ],
      "execution_count": null,
      "outputs": [
        {
          "output_type": "stream",
          "text": [
            "Downloading data from https://storage.googleapis.com/tensorflow/keras-applications/vgg16/vgg16_weights_tf_dim_ordering_tf_kernels.h5\n",
            "553467904/553467096 [==============================] - 3s 0us/step\n",
            "Successfully loaded base model and model...\n"
          ],
          "name": "stdout"
        }
      ]
    },
    {
      "cell_type": "code",
      "metadata": {
        "colab": {
          "base_uri": "https://localhost:8080/"
        },
        "id": "30AUINJZxNz3",
        "outputId": "4b1d5569-44f3-41d9-9e14-9dccf8598fa6"
      },
      "source": [
        "model.summary()"
      ],
      "execution_count": null,
      "outputs": [
        {
          "output_type": "stream",
          "text": [
            "Model: \"model\"\n",
            "_________________________________________________________________\n",
            "Layer (type)                 Output Shape              Param #   \n",
            "=================================================================\n",
            "input_1 (InputLayer)         [(None, 224, 224, 3)]     0         \n",
            "_________________________________________________________________\n",
            "block1_conv1 (Conv2D)        (None, 224, 224, 64)      1792      \n",
            "_________________________________________________________________\n",
            "block1_conv2 (Conv2D)        (None, 224, 224, 64)      36928     \n",
            "_________________________________________________________________\n",
            "block1_pool (MaxPooling2D)   (None, 112, 112, 64)      0         \n",
            "_________________________________________________________________\n",
            "block2_conv1 (Conv2D)        (None, 112, 112, 128)     73856     \n",
            "_________________________________________________________________\n",
            "block2_conv2 (Conv2D)        (None, 112, 112, 128)     147584    \n",
            "_________________________________________________________________\n",
            "block2_pool (MaxPooling2D)   (None, 56, 56, 128)       0         \n",
            "_________________________________________________________________\n",
            "block3_conv1 (Conv2D)        (None, 56, 56, 256)       295168    \n",
            "_________________________________________________________________\n",
            "block3_conv2 (Conv2D)        (None, 56, 56, 256)       590080    \n",
            "_________________________________________________________________\n",
            "block3_conv3 (Conv2D)        (None, 56, 56, 256)       590080    \n",
            "_________________________________________________________________\n",
            "block3_pool (MaxPooling2D)   (None, 28, 28, 256)       0         \n",
            "_________________________________________________________________\n",
            "block4_conv1 (Conv2D)        (None, 28, 28, 512)       1180160   \n",
            "_________________________________________________________________\n",
            "block4_conv2 (Conv2D)        (None, 28, 28, 512)       2359808   \n",
            "_________________________________________________________________\n",
            "block4_conv3 (Conv2D)        (None, 28, 28, 512)       2359808   \n",
            "_________________________________________________________________\n",
            "block4_pool (MaxPooling2D)   (None, 14, 14, 512)       0         \n",
            "_________________________________________________________________\n",
            "block5_conv1 (Conv2D)        (None, 14, 14, 512)       2359808   \n",
            "_________________________________________________________________\n",
            "block5_conv2 (Conv2D)        (None, 14, 14, 512)       2359808   \n",
            "_________________________________________________________________\n",
            "block5_conv3 (Conv2D)        (None, 14, 14, 512)       2359808   \n",
            "_________________________________________________________________\n",
            "block5_pool (MaxPooling2D)   (None, 7, 7, 512)         0         \n",
            "_________________________________________________________________\n",
            "flatten (Flatten)            (None, 25088)             0         \n",
            "_________________________________________________________________\n",
            "fc1 (Dense)                  (None, 4096)              102764544 \n",
            "=================================================================\n",
            "Total params: 117,479,232\n",
            "Trainable params: 117,479,232\n",
            "Non-trainable params: 0\n",
            "_________________________________________________________________\n"
          ],
          "name": "stdout"
        }
      ]
    },
    {
      "cell_type": "code",
      "metadata": {
        "colab": {
          "base_uri": "https://localhost:8080/"
        },
        "id": "DfLBywsdxN2n",
        "outputId": "4c51aa7d-3a63-49ab-f907-abcf3f0caf90"
      },
      "source": [
        "# path to training dataset\r\n",
        "train_labels = os.listdir(train_path)\r\n",
        "\r\n",
        "# encode the labels\r\n",
        "print (\"Encoding labels...\")\r\n",
        "le = LabelEncoder()\r\n",
        "le.fit([tl for tl in train_labels])\r\n",
        "\r\n",
        "# variables to hold features and labels\r\n",
        "features = []\r\n",
        "labels   = []\r\n",
        "\r\n",
        "# loop over all the labels in the folder\r\n",
        "count = 1\r\n",
        "for i, label in enumerate(train_labels):\r\n",
        "    cur_path = train_path + \"/\" + label\r\n",
        "    count = 1\r\n",
        "    for image_path in glob.glob(cur_path + \"/*.jpg\"):\r\n",
        "        img = image.load_img(image_path, target_size=image_size)\r\n",
        "        x = image.img_to_array(img)\r\n",
        "        x = np.expand_dims(x, axis=0)\r\n",
        "        x = preprocess_input(x)\r\n",
        "        feature = model.predict(x)\r\n",
        "        flat = feature.flatten()\r\n",
        "        features.append(flat)\r\n",
        "        labels.append(label)\r\n",
        "        count += 1\r\n",
        "    print (\"Completed label - \" + label)\r\n",
        "\r\n",
        "# encode the labels using LabelEncoder\r\n",
        "le = LabelEncoder()\r\n",
        "le_labels = le.fit_transform(labels)\r\n",
        "\r\n",
        "# get the shape of training labels\r\n",
        "# print (\"[STATUS] training labels: {}\".format(le_labels))\r\n",
        "print (\"[STATUS] training labels shape: {}\".format(le_labels.shape))"
      ],
      "execution_count": null,
      "outputs": [
        {
          "output_type": "stream",
          "text": [
            "Encoding labels...\n",
            "Completed label - front\n",
            "Completed label - side\n",
            "Completed label - rear\n",
            "[STATUS] training labels: [0 0 0 0 0 0 0 0 0 0 0 0 0 0 0 0 0 0 0 0 0 0 0 0 0 0 0 0 0 0 0 0 0 0 0 0 0\n",
            " 0 0 0 0 0 0 0 0 0 0 0 0 0 0 0 0 0 0 0 0 0 0 0 0 0 0 0 0 0 0 0 0 0 0 0 0 0\n",
            " 0 0 0 0 0 0 0 0 0 0 0 0 0 0 0 0 0 0 0 0 0 0 0 0 0 0 0 0 0 0 0 0 0 0 0 0 0\n",
            " 0 0 0 0 0 0 0 0 0 0 0 0 0 0 0 0 0 0 0 0 0 0 0 0 0 0 0 0 0 0 0 0 0 0 0 0 0\n",
            " 0 0 0 0 0 0 0 0 0 0 0 0 0 0 0 0 0 0 0 0 0 0 0 0 0 0 0 0 0 0 0 0 0 0 0 0 0\n",
            " 0 0 0 0 0 0 0 0 0 0 0 0 0 0 0 0 0 0 0 0 0 0 0 0 0 0 0 0 0 0 0 0 0 0 0 0 0\n",
            " 0 0 0 0 0 0 0 0 0 0 0 0 0 0 0 0 0 0 0 0 0 0 0 0 0 0 0 0 0 0 0 0 0 0 0 0 0\n",
            " 0 0 0 0 0 0 0 0 0 0 0 0 0 0 0 0 0 0 0 0 0 0 0 0 0 0 0 0 0 0 0 0 0 0 0 0 0\n",
            " 0 0 0 0 0 0 0 0 0 0 0 0 0 0 0 0 0 0 0 0 0 0 0 0 0 0 0 0 0 0 0 0 0 0 0 0 0\n",
            " 0 0 0 0 0 0 0 0 0 0 0 0 0 0 0 0 0 0 0 0 0 0 0 0 0 0 0 0 0 0 0 0 0 0 0 0 0\n",
            " 0 0 0 0 0 0 0 0 0 0 0 0 0 0 0 0 0 0 0 0 0 0 0 0 0 0 0 0 0 0 0 0 0 0 0 0 0\n",
            " 0 0 0 0 0 0 0 0 0 0 0 0 2 2 2 2 2 2 2 2 2 2 2 2 2 2 2 2 2 2 2 2 2 2 2 2 2\n",
            " 2 2 2 2 2 2 2 2 2 2 2 2 2 2 2 2 2 2 2 2 2 2 2 2 2 2 2 2 2 2 2 2 2 2 2 2 2\n",
            " 2 2 2 2 2 2 2 2 2 2 2 2 2 2 2 2 2 2 2 2 2 2 2 2 2 2 2 2 2 2 2 2 2 2 2 2 2\n",
            " 2 2 2 2 2 2 2 2 2 2 2 2 2 2 2 2 2 2 2 2 2 2 2 2 2 2 2 2 2 2 2 2 2 2 2 2 2\n",
            " 2 2 2 2 2 2 2 2 2 2 2 2 2 2 2 2 2 2 2 2 2 2 2 2 2 2 2 2 2 2 2 2 2 2 2 2 2\n",
            " 2 2 2 2 2 2 2 2 2 2 2 2 2 2 2 2 2 2 2 2 2 2 2 2 2 2 2 2 2 2 2 2 2 2 2 2 2\n",
            " 2 2 2 2 2 2 2 2 2 2 2 2 2 2 2 2 2 2 2 2 2 2 2 2 2 2 2 2 2 2 2 2 2 2 2 2 2\n",
            " 2 2 2 2 2 2 2 2 2 2 2 2 2 2 2 2 2 2 2 2 2 2 2 2 2 1 1 1 1 1 1 1 1 1 1 1 1\n",
            " 1 1 1 1 1 1 1 1 1 1 1 1 1 1 1 1 1 1 1 1 1 1 1 1 1 1 1 1 1 1 1 1 1 1 1 1 1\n",
            " 1 1 1 1 1 1 1 1 1 1 1 1 1 1 1 1 1 1 1 1 1 1 1 1 1 1 1 1 1 1 1 1 1 1 1 1 1\n",
            " 1 1 1 1 1 1 1 1 1 1 1 1 1 1 1 1 1 1 1 1 1 1 1 1 1 1 1 1 1 1 1 1 1 1 1 1 1\n",
            " 1 1 1 1 1 1 1 1 1 1 1 1 1 1 1 1 1 1 1 1 1 1 1 1 1 1 1 1 1 1 1 1 1 1 1 1 1\n",
            " 1 1 1 1 1 1 1 1 1 1 1 1 1 1 1 1 1 1 1 1 1 1 1 1 1 1 1 1 1 1 1 1 1 1 1 1 1\n",
            " 1 1 1 1 1 1 1 1 1 1 1 1 1 1 1 1 1 1 1 1 1 1 1 1 1 1 1 1 1 1 1 1 1 1 1 1 1\n",
            " 1 1 1 1 1 1 1 1 1 1 1 1 1 1 1 1 1 1 1 1 1 1 1 1 1 1 1 1 1 1 1 1 1 1 1 1 1\n",
            " 1 1 1 1 1 1 1 1 1 1 1 1 1 1 1 1 1]\n",
            "[STATUS] training labels shape: (979,)\n"
          ],
          "name": "stdout"
        }
      ]
    },
    {
      "cell_type": "code",
      "metadata": {
        "colab": {
          "base_uri": "https://localhost:8080/"
        },
        "id": "elH8LjxOxN5M",
        "outputId": "e6055cc2-1da7-407b-dc02-96b4e44e2447"
      },
      "source": [
        "# save features and labels\r\n",
        "h5f_data = h5py.File(features_path, 'w')\r\n",
        "h5f_data.create_dataset('dataset_1', data=np.array(features))\r\n",
        "\r\n",
        "h5f_label = h5py.File(labels_path, 'w')\r\n",
        "h5f_label.create_dataset('dataset_1', data=np.array(le_labels))\r\n",
        "\r\n",
        "h5f_data.close()\r\n",
        "h5f_label.close()\r\n",
        "\r\n",
        "# save model and weights\r\n",
        "model_json = model.to_json()\r\n",
        "with open(model_path + str(test_size) + \".json\", \"w\") as json_file:\r\n",
        "    json_file.write(model_json)\r\n",
        "\r\n",
        "# save weights\r\n",
        "model.save_weights(model_path + str(test_size) + \".h5\")\r\n",
        "print(\"Saved model and weights to disk..\")\r\n",
        "\r\n",
        "print (\"Features and labels saved..\")"
      ],
      "execution_count": null,
      "outputs": [
        {
          "output_type": "stream",
          "text": [
            "Saved model and weights to disk..\n",
            "Features and labels saved..\n"
          ],
          "name": "stdout"
        }
      ]
    },
    {
      "cell_type": "code",
      "metadata": {
        "id": "isvO2C9lxN7y"
      },
      "source": [
        "# import features and labels\r\n",
        "h5f_data  = h5py.File(features_path, 'r')\r\n",
        "h5f_label = h5py.File(labels_path, 'r')\r\n",
        "\r\n",
        "features_string = h5f_data['dataset_1']\r\n",
        "labels_string   = h5f_label['dataset_1']\r\n",
        "\r\n",
        "features = np.array(features_string)\r\n",
        "labels   = np.array(labels_string)\r\n",
        "\r\n",
        "h5f_data.close()\r\n",
        "h5f_label.close()"
      ],
      "execution_count": null,
      "outputs": []
    },
    {
      "cell_type": "code",
      "metadata": {
        "colab": {
          "base_uri": "https://localhost:8080/"
        },
        "id": "QFrgrhB1xN-D",
        "outputId": "653c5e91-cdde-4d73-c062-73e4b26d4990"
      },
      "source": [
        "# verify the shape of features and labels\r\n",
        "print (\"[INFO] features shape: {}\".format(features.shape))\r\n",
        "print (\"[INFO] labels shape: {}\".format(labels.shape))\r\n",
        "\r\n",
        "print (\"[INFO] training started...\")\r\n",
        "# split the training and testing data\r\n",
        "(trainData, testData, trainLabels, testLabels) = train_test_split(np.array(features),\r\n",
        "                                                                  np.array(labels),\r\n",
        "                                                                  test_size=test_size,\r\n",
        "                                                                  random_state=seed)\r\n",
        "\r\n",
        "print (\"[INFO] splitted train and test data...\")\r\n",
        "print (\"[INFO] train data  : {}\".format(trainData.shape))\r\n",
        "print (\"[INFO] test data   : {}\".format(testData.shape))\r\n",
        "print (\"[INFO] train labels: {}\".format(trainLabels.shape))\r\n",
        "print (\"[INFO] test labels : {}\".format(testLabels.shape))"
      ],
      "execution_count": null,
      "outputs": [
        {
          "output_type": "stream",
          "text": [
            "[INFO] features shape: (979, 4096)\n",
            "[INFO] labels shape: (979,)\n",
            "[INFO] training started...\n",
            "[INFO] splitted train and test data...\n",
            "[INFO] train data  : (783, 4096)\n",
            "[INFO] test data   : (196, 4096)\n",
            "[INFO] train labels: (783,)\n",
            "[INFO] test labels : (196,)\n"
          ],
          "name": "stdout"
        }
      ]
    },
    {
      "cell_type": "code",
      "metadata": {
        "colab": {
          "base_uri": "https://localhost:8080/"
        },
        "id": "s7T0xgj3xOA2",
        "outputId": "49f80a96-b984-4b3b-b7dd-c6615fd5be68"
      },
      "source": [
        "# use logistic regression as the model\r\n",
        "print (\"[INFO] creating model...\")\r\n",
        "model = LogisticRegression(random_state=seed)\r\n",
        "model.fit(trainData, trainLabels)"
      ],
      "execution_count": null,
      "outputs": [
        {
          "output_type": "stream",
          "text": [
            "[INFO] creating model...\n"
          ],
          "name": "stdout"
        },
        {
          "output_type": "execute_result",
          "data": {
            "text/plain": [
              "LogisticRegression(C=1.0, class_weight=None, dual=False, fit_intercept=True,\n",
              "                   intercept_scaling=1, l1_ratio=None, max_iter=100,\n",
              "                   multi_class='auto', n_jobs=None, penalty='l2',\n",
              "                   random_state=9, solver='lbfgs', tol=0.0001, verbose=0,\n",
              "                   warm_start=False)"
            ]
          },
          "metadata": {
            "tags": []
          },
          "execution_count": 11
        }
      ]
    },
    {
      "cell_type": "code",
      "metadata": {
        "id": "Bi7pcKI7xODa"
      },
      "source": [
        "# evaluate the model of test data\r\n",
        "preds = model.predict(testData)"
      ],
      "execution_count": null,
      "outputs": []
    },
    {
      "cell_type": "code",
      "metadata": {
        "colab": {
          "base_uri": "https://localhost:8080/"
        },
        "id": "IB6ih2qExOF_",
        "outputId": "c09677e8-38da-4aab-92f2-cfc1c8b65e68"
      },
      "source": [
        "preds.shape"
      ],
      "execution_count": null,
      "outputs": [
        {
          "output_type": "execute_result",
          "data": {
            "text/plain": [
              "(196,)"
            ]
          },
          "metadata": {
            "tags": []
          },
          "execution_count": 13
        }
      ]
    },
    {
      "cell_type": "code",
      "metadata": {
        "colab": {
          "base_uri": "https://localhost:8080/"
        },
        "id": "Vyna14XNxOIr",
        "outputId": "4f7ad127-85ea-4f41-9cc3-b71002b7b3c5"
      },
      "source": [
        "# dump classifier to file\r\n",
        "print (\"[INFO] saving model...\")\r\n",
        "pickle.dump(model, open(classifier_path, 'wb'))"
      ],
      "execution_count": null,
      "outputs": [
        {
          "output_type": "stream",
          "text": [
            "[INFO] saving model...\n"
          ],
          "name": "stdout"
        }
      ]
    },
    {
      "cell_type": "code",
      "metadata": {
        "colab": {
          "base_uri": "https://localhost:8080/"
        },
        "id": "yVvGBWoOxOLP",
        "outputId": "418ed8b2-b6fa-4e6a-a72c-82d6a63c90f1"
      },
      "source": [
        "# plot the confusion matrix\r\n",
        "cm = confusion_matrix(testLabels, preds)\r\n",
        "cm"
      ],
      "execution_count": null,
      "outputs": [
        {
          "output_type": "execute_result",
          "data": {
            "text/plain": [
              "array([[64,  7,  8],\n",
              "       [13, 44,  7],\n",
              "       [10,  9, 34]])"
            ]
          },
          "metadata": {
            "tags": []
          },
          "execution_count": 15
        }
      ]
    },
    {
      "cell_type": "code",
      "metadata": {
        "colab": {
          "base_uri": "https://localhost:8080/"
        },
        "id": "NbIiKoXAxONx",
        "outputId": "3be8ae56-72e3-47da-ed4e-fdd7e9865bea"
      },
      "source": [
        "accuracy_score(testLabels, preds)"
      ],
      "execution_count": null,
      "outputs": [
        {
          "output_type": "execute_result",
          "data": {
            "text/plain": [
              "0.7244897959183674"
            ]
          },
          "metadata": {
            "tags": []
          },
          "execution_count": 16
        }
      ]
    },
    {
      "cell_type": "code",
      "metadata": {
        "id": "byZvXINHxOQm"
      },
      "source": [
        "label_check1 = ['Front', 'Rear', 'Side']"
      ],
      "execution_count": null,
      "outputs": []
    },
    {
      "cell_type": "code",
      "metadata": {
        "colab": {
          "base_uri": "https://localhost:8080/"
        },
        "id": "2CoL1cGpxOTU",
        "outputId": "3c200ec9-4ece-444c-a426-5872a33bdb6e"
      },
      "source": [
        "print(classification_report(testLabels, preds, target_names=label_check1))"
      ],
      "execution_count": null,
      "outputs": [
        {
          "output_type": "stream",
          "text": [
            "              precision    recall  f1-score   support\n",
            "\n",
            "       Front       0.74      0.81      0.77        79\n",
            "        Rear       0.73      0.69      0.71        64\n",
            "        Side       0.69      0.64      0.67        53\n",
            "\n",
            "    accuracy                           0.72       196\n",
            "   macro avg       0.72      0.71      0.72       196\n",
            "weighted avg       0.72      0.72      0.72       196\n",
            "\n"
          ],
          "name": "stdout"
        }
      ]
    },
    {
      "cell_type": "code",
      "metadata": {
        "colab": {
          "base_uri": "https://localhost:8080/",
          "height": 265
        },
        "id": "XL4ZxL5VxOWI",
        "outputId": "a1aa163f-0134-4d36-e71d-fa8ab38fea39"
      },
      "source": [
        "sns.heatmap(cm, annot=True, cmap=\"Set2\")\r\n",
        "plt.show()"
      ],
      "execution_count": null,
      "outputs": [
        {
          "output_type": "display_data",
          "data": {
            "image/png": "[encoded data removed]",
            "text/plain": [
              "<Figure size 432x288 with 2 Axes>"
            ]
          },
          "metadata": {
            "tags": [],
            "needs_background": "light"
          }
        }
      ]
    },
    {
      "cell_type": "code",
      "metadata": {
        "colab": {
          "base_uri": "https://localhost:8080/"
        },
        "id": "aezaN2sUxOY2",
        "outputId": "bb7d7b8b-86f9-41ce-a00d-8c37084645d5"
      },
      "source": [
        "# load the trained logistic regression classifier\r\n",
        "print (\"[INFO] loading the classifier...\")\r\n",
        "classifier = pickle.load(open(config[\"classifier_path\"], 'rb'))\r\n",
        "\r\n",
        "# pretrained models needed to perform feature extraction on test data too!\r\n",
        "if config[\"model\"] == \"vgg16\":\r\n",
        "\tbase_model = VGG16(weights=config[\"weights\"])\r\n",
        "\tmodel = Model(inputs=base_model.input, outputs=base_model.get_layer('fc1').output)\r\n",
        "\timage_size = (224, 224)\r\n",
        "\r\n",
        "else:\r\n",
        "\tbase_model = None"
      ],
      "execution_count": null,
      "outputs": [
        {
          "output_type": "stream",
          "text": [
            "[INFO] loading the classifier...\n"
          ],
          "name": "stdout"
        }
      ]
    },
    {
      "cell_type": "code",
      "metadata": {
        "id": "xIJtytVTI7Fg"
      },
      "source": [
        "def pipe3(image_path, model, classifier):\n",
        "    urllib.request.urlretrieve(image_path, 'image.jpg')\n",
        "    img = image.load_img('image.jpg', target_size=(224,224))\n",
        "    x = image.img_to_array(img)\n",
        "    x = np.expand_dims(x, axis=0)\n",
        "    x = preprocess_input(x)\n",
        "    feature = model.predict(x)\n",
        "    flat = feature.flatten()\n",
        "    flat = np.expand_dims(flat, axis=0)\n",
        "    preds = classifier.predict(flat)\n",
        "    print(\"Finding the area of damage....\")\n",
        "    print(f\"Validation complete - Car is found to be damaged from {label_check1[preds[0]]}. Proceed to severity determination!!\")   "
      ],
      "execution_count": null,
      "outputs": []
    },
    {
      "cell_type": "code",
      "metadata": {
        "colab": {
          "base_uri": "https://localhost:8080/"
        },
        "id": "jlCijdAHTO21",
        "outputId": "3beeca91-8fea-4f1b-80e3-dec7190698b8"
      },
      "source": [
        "pipe3('https://tse4.mm.bing.net/th?id=OIP.LlCtLGvdxEtMaRyAWsn_zAAAAA', model, classifier)"
      ],
      "execution_count": null,
      "outputs": [
        {
          "output_type": "stream",
          "text": [
            "Finding the area of damage....\n",
            "Validation complete - Car is found to be damaged from Front. Proceed to severity determination!!\n"
          ],
          "name": "stdout"
        }
      ]
    },
    {
      "cell_type": "code",
      "metadata": {
        "colab": {
          "base_uri": "https://localhost:8080/"
        },
        "id": "snJyZMSoTib0",
        "outputId": "891e7eec-b184-47b6-a894-36feac77ffa8"
      },
      "source": [
        "pipe3('http://www.readthehook.com/files/imagecache/max_viewable/images/field_images/news-runawaycar-mazda-rear.jpg', model, classifier)"
      ],
      "execution_count": null,
      "outputs": [
        {
          "output_type": "stream",
          "text": [
            "Finding the area of damage....\n",
            "Validation complete - Car is found to be damaged from Rear. Proceed to severity determination!!\n"
          ],
          "name": "stdout"
        }
      ]
    },
    {
      "cell_type": "code",
      "metadata": {
        "colab": {
          "base_uri": "https://localhost:8080/"
        },
        "id": "i3NsWM99UHyK",
        "outputId": "c1408f77-19b4-470b-9d3a-c2f95ada6b60"
      },
      "source": [
        "pipe3('https://www.side.cr/wp-content/uploads/2018/09/Connecticut-Sell-Damaged-Car.jpg', model, classifier)"
      ],
      "execution_count": null,
      "outputs": [
        {
          "output_type": "stream",
          "text": [
            "Finding the area of damage....\n",
            "Validation complete - Car is found to be damaged from Side. Proceed to severity determination!!\n"
          ],
          "name": "stdout"
        }
      ]
    },
    {
      "cell_type": "code",
      "metadata": {
        "id": "ZHpI-GcHCrHx"
      },
      "source": [
        ""
      ],
      "execution_count": null,
      "outputs": []
    }
  ]
}