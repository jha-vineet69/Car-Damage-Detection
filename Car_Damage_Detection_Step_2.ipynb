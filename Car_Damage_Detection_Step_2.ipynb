{
  "nbformat": 4,
  "nbformat_minor": 0,
  "metadata": {
    "kernelspec": {
      "display_name": "Python 3",
      "language": "python",
      "name": "python3"
    },
    "language_info": {
      "codemirror_mode": {
        "name": "ipython",
        "version": 3
      },
      "file_extension": ".py",
      "mimetype": "text/x-python",
      "name": "python",
      "nbconvert_exporter": "python",
      "pygments_lexer": "ipython3",
      "version": "3.7.1"
    },
    "colab": {
      "name": "Car Damage Detection - Step 2.ipynb",
      "provenance": [],
      "collapsed_sections": [],
      "include_colab_link": true
    },
    "accelerator": "GPU"
  },
  "cells": [
    {
      "cell_type": "markdown",
      "metadata": {
        "id": "view-in-github",
        "colab_type": "text"
      },
      "source": [
        "<a href=\"https://colab.research.google.com/github/jha-vineet69/Car-Damage-Detection/blob/main/Car_Damage_Detection_Step_2.ipynb\" target=\"_parent\"><img src=\"https://colab.research.google.com/assets/colab-badge.svg\" alt=\"Open In Colab\"/></a>"
      ]
    },
    {
      "cell_type": "code",
      "metadata": {
        "colab": {
          "base_uri": "https://localhost:8080/"
        },
        "id": "tC2JRpGjAnYO",
        "outputId": "5e1cf8aa-5432-4560-fe1f-fdab6f7e4ed3"
      },
      "source": [
        "from google.colab import drive\n",
        "drive.mount('/content/drive')"
      ],
      "execution_count": null,
      "outputs": [
        {
          "output_type": "stream",
          "text": [
            "Mounted at /content/drive\n"
          ],
          "name": "stdout"
        }
      ]
    },
    {
      "cell_type": "code",
      "metadata": {
        "id": "UUmXuBTRAfBO"
      },
      "source": [
        "#Import Libraries\n",
        "\n",
        "import os\n",
        "import glob\n",
        "import datetime\n",
        "import numpy as np\n",
        "import h5py\n",
        "import json\n",
        "import pickle\n",
        "import time\n",
        "import urllib.request\n",
        "\n",
        "# keras imports\n",
        "from keras.applications.vgg16 import VGG16, preprocess_input\n",
        "from keras.preprocessing import image\n",
        "from keras.models import Model\n",
        "\n",
        "# imports required packages\n",
        "from sklearn.preprocessing import LabelEncoder\n",
        "from sklearn.model_selection import train_test_split\n",
        "from sklearn.linear_model import LogisticRegression\n",
        "from sklearn.metrics import confusion_matrix\n",
        "\n",
        "# other imports\n",
        "import seaborn as sns\n",
        "import matplotlib.pyplot as plt\n",
        "import warnings\n",
        "warnings.filterwarnings('ignore')"
      ],
      "execution_count": null,
      "outputs": []
    },
    {
      "cell_type": "code",
      "metadata": {
        "id": "BJkaGC6bAfBQ"
      },
      "source": [
        "# Create a dictionary with configuration/setup we will be using\n",
        "\n",
        "config={\n",
        "  \"model\"           : \"vgg16\",\n",
        "  \"weights\"         : \"imagenet\",\n",
        "  \"include_top\"     : False,\n",
        "\n",
        "  \"train_path\"      : \"/content/drive/MyDrive/Colab Notebooks/Minor Project Sem 7/data1a/training\",\n",
        "  \"test_path\"       : \"/content/drive/MyDrive/Colab Notebooks/Minor Project Sem 7/data1a/validation\",\n",
        "  \"features_path\"   : \"/content/drive/MyDrive/Colab Notebooks/Minor Project Sem 7/features.h5\",\n",
        "  \"labels_path\"     : \"/content/drive/MyDrive/Colab Notebooks/Minor Project Sem 7/labels.h5\",\n",
        "  \"results\"         : \"/content/drive/MyDrive/Colab Notebooks/Minor Project Sem 7/results.txt\",\n",
        "  \"classifier_path\" : \"/content/drive/MyDrive/Colab Notebooks/Minor Project Sem 7/classifier.pickle\",\n",
        "  \"model_path\"      : \"/content/drive/MyDrive/Colab Notebooks/Minor Project Sem 7/model\",\n",
        "\n",
        "  \"test_size\"       : 0.20,\n",
        "  \"seed\"            : 9,\n",
        "  \"num_classes\"     : 2\n",
        "}"
      ],
      "execution_count": null,
      "outputs": []
    },
    {
      "cell_type": "code",
      "metadata": {
        "id": "DYBKMQ_FAfBR"
      },
      "source": [
        "# config variables\n",
        "model_name    = config[\"model\"]\n",
        "weights     = config[\"weights\"]\n",
        "include_top   = config[\"include_top\"]\n",
        "train_path    = config[\"train_path\"]\n",
        "features_path   = config[\"features_path\"]\n",
        "labels_path   = config[\"labels_path\"]\n",
        "test_size     = config[\"test_size\"]\n",
        "results     = config[\"results\"]\n",
        "model_path    = config[\"model_path\"]"
      ],
      "execution_count": null,
      "outputs": []
    },
    {
      "cell_type": "code",
      "metadata": {
        "colab": {
          "base_uri": "https://localhost:8080/"
        },
        "id": "N9gkKaBIAfBR",
        "outputId": "79abb202-bb21-4fe1-d62a-413e013b48aa"
      },
      "source": [
        "# Here we are loading the base VGG16 model with weights and then excluding the top dense layer\n",
        "if model_name == \"vgg16\":\n",
        "    base_model = VGG16(weights=weights)\n",
        "    model = Model(inputs=base_model.input, outputs=base_model.get_layer('fc1').output)\n",
        "    image_size = (224, 224)\n",
        "else:\n",
        "    base_model = None\n",
        "\n",
        "print (\"Successfully loaded base model and model...\")"
      ],
      "execution_count": null,
      "outputs": [
        {
          "output_type": "stream",
          "text": [
            "Downloading data from https://storage.googleapis.com/tensorflow/keras-applications/vgg16/vgg16_weights_tf_dim_ordering_tf_kernels.h5\n",
            "553467904/553467096 [==============================] - 5s 0us/step\n",
            "Successfully loaded base model and model...\n"
          ],
          "name": "stdout"
        }
      ]
    },
    {
      "cell_type": "code",
      "metadata": {
        "colab": {
          "base_uri": "https://localhost:8080/"
        },
        "id": "dCegrvW5AfBR",
        "outputId": "6b7b7c38-efa9-4a08-9ace-64695f044965"
      },
      "source": [
        "# path to training dataset\n",
        "train_labels = os.listdir(train_path)\n",
        "\n",
        "# encode the labels\n",
        "print (\"Encoding labels...\")\n",
        "le = LabelEncoder()\n",
        "le.fit([tl for tl in train_labels])\n",
        "\n",
        "# variables to hold features and labels\n",
        "features = []\n",
        "labels   = []\n",
        "\n",
        "# loop over all the labels in the folder\n",
        "count = 1\n",
        "for i, label in enumerate(train_labels):\n",
        "    cur_path = train_path + \"/\" + label\n",
        "    count = 1\n",
        "    print (\"Processing...\")\n",
        "    for image_path in glob.glob(cur_path + \"/*.jpg\"):\n",
        "        img = image.load_img(image_path, target_size=image_size)\n",
        "        x = image.img_to_array(img)\n",
        "        x = np.expand_dims(x, axis=0)\n",
        "        x = preprocess_input(x)\n",
        "        feature = model.predict(x)\n",
        "        flat = feature.flatten()\n",
        "        features.append(flat)\n",
        "        labels.append(label)\n",
        "        count += 1\n",
        "    print (\"Completed label - \" + label)\n",
        "\n",
        "# encode the labels using LabelEncoder\n",
        "le = LabelEncoder()\n",
        "le_labels = le.fit_transform(labels)\n",
        "\n",
        "# get the shape of training labels\n",
        "print (\"Training labels: {}\".format(le_labels))\n",
        "print (\"Training labels shape: {}\".format(le_labels.shape))"
      ],
      "execution_count": null,
      "outputs": [
        {
          "output_type": "stream",
          "text": [
            "Encoding labels...\n",
            "Processing...\n",
            "Completed label - 01-whole\n",
            "Training labels: [0 0 0 ... 1 1 1]\n",
            "Training labels shape: (1840,)\n"
          ],
          "name": "stdout"
        }
      ]
    },
    {
      "cell_type": "code",
      "metadata": {
        "colab": {
          "base_uri": "https://localhost:8080/"
        },
        "id": "n61nG5yUAfBS",
        "outputId": "089a391e-76df-47a3-8327-7c8a11f83e4a"
      },
      "source": [
        "model.summary()"
      ],
      "execution_count": null,
      "outputs": [
        {
          "output_type": "stream",
          "text": [
            "Model: \"functional_1\"\n",
            "_________________________________________________________________\n",
            "Layer (type)                 Output Shape              Param #   \n",
            "=================================================================\n",
            "input_1 (InputLayer)         [(None, 224, 224, 3)]     0         \n",
            "_________________________________________________________________\n",
            "block1_conv1 (Conv2D)        (None, 224, 224, 64)      1792      \n",
            "_________________________________________________________________\n",
            "block1_conv2 (Conv2D)        (None, 224, 224, 64)      36928     \n",
            "_________________________________________________________________\n",
            "block1_pool (MaxPooling2D)   (None, 112, 112, 64)      0         \n",
            "_________________________________________________________________\n",
            "block2_conv1 (Conv2D)        (None, 112, 112, 128)     73856     \n",
            "_________________________________________________________________\n",
            "block2_conv2 (Conv2D)        (None, 112, 112, 128)     147584    \n",
            "_________________________________________________________________\n",
            "block2_pool (MaxPooling2D)   (None, 56, 56, 128)       0         \n",
            "_________________________________________________________________\n",
            "block3_conv1 (Conv2D)        (None, 56, 56, 256)       295168    \n",
            "_________________________________________________________________\n",
            "block3_conv2 (Conv2D)        (None, 56, 56, 256)       590080    \n",
            "_________________________________________________________________\n",
            "block3_conv3 (Conv2D)        (None, 56, 56, 256)       590080    \n",
            "_________________________________________________________________\n",
            "block3_pool (MaxPooling2D)   (None, 28, 28, 256)       0         \n",
            "_________________________________________________________________\n",
            "block4_conv1 (Conv2D)        (None, 28, 28, 512)       1180160   \n",
            "_________________________________________________________________\n",
            "block4_conv2 (Conv2D)        (None, 28, 28, 512)       2359808   \n",
            "_________________________________________________________________\n",
            "block4_conv3 (Conv2D)        (None, 28, 28, 512)       2359808   \n",
            "_________________________________________________________________\n",
            "block4_pool (MaxPooling2D)   (None, 14, 14, 512)       0         \n",
            "_________________________________________________________________\n",
            "block5_conv1 (Conv2D)        (None, 14, 14, 512)       2359808   \n",
            "_________________________________________________________________\n",
            "block5_conv2 (Conv2D)        (None, 14, 14, 512)       2359808   \n",
            "_________________________________________________________________\n",
            "block5_conv3 (Conv2D)        (None, 14, 14, 512)       2359808   \n",
            "_________________________________________________________________\n",
            "block5_pool (MaxPooling2D)   (None, 7, 7, 512)         0         \n",
            "_________________________________________________________________\n",
            "flatten (Flatten)            (None, 25088)             0         \n",
            "_________________________________________________________________\n",
            "fc1 (Dense)                  (None, 4096)              102764544 \n",
            "=================================================================\n",
            "Total params: 117,479,232\n",
            "Trainable params: 117,479,232\n",
            "Non-trainable params: 0\n",
            "_________________________________________________________________\n"
          ],
          "name": "stdout"
        }
      ]
    },
    {
      "cell_type": "code",
      "metadata": {
        "colab": {
          "base_uri": "https://localhost:8080/"
        },
        "id": "kvRjiB8kAfBS",
        "outputId": "0b522b7f-2ce7-4ea3-b9b1-bb81435f215f"
      },
      "source": [
        "base_model.summary()"
      ],
      "execution_count": null,
      "outputs": [
        {
          "output_type": "stream",
          "text": [
            "Model: \"vgg16\"\n",
            "_________________________________________________________________\n",
            "Layer (type)                 Output Shape              Param #   \n",
            "=================================================================\n",
            "input_1 (InputLayer)         [(None, 224, 224, 3)]     0         \n",
            "_________________________________________________________________\n",
            "block1_conv1 (Conv2D)        (None, 224, 224, 64)      1792      \n",
            "_________________________________________________________________\n",
            "block1_conv2 (Conv2D)        (None, 224, 224, 64)      36928     \n",
            "_________________________________________________________________\n",
            "block1_pool (MaxPooling2D)   (None, 112, 112, 64)      0         \n",
            "_________________________________________________________________\n",
            "block2_conv1 (Conv2D)        (None, 112, 112, 128)     73856     \n",
            "_________________________________________________________________\n",
            "block2_conv2 (Conv2D)        (None, 112, 112, 128)     147584    \n",
            "_________________________________________________________________\n",
            "block2_pool (MaxPooling2D)   (None, 56, 56, 128)       0         \n",
            "_________________________________________________________________\n",
            "block3_conv1 (Conv2D)        (None, 56, 56, 256)       295168    \n",
            "_________________________________________________________________\n",
            "block3_conv2 (Conv2D)        (None, 56, 56, 256)       590080    \n",
            "_________________________________________________________________\n",
            "block3_conv3 (Conv2D)        (None, 56, 56, 256)       590080    \n",
            "_________________________________________________________________\n",
            "block3_pool (MaxPooling2D)   (None, 28, 28, 256)       0         \n",
            "_________________________________________________________________\n",
            "block4_conv1 (Conv2D)        (None, 28, 28, 512)       1180160   \n",
            "_________________________________________________________________\n",
            "block4_conv2 (Conv2D)        (None, 28, 28, 512)       2359808   \n",
            "_________________________________________________________________\n",
            "block4_conv3 (Conv2D)        (None, 28, 28, 512)       2359808   \n",
            "_________________________________________________________________\n",
            "block4_pool (MaxPooling2D)   (None, 14, 14, 512)       0         \n",
            "_________________________________________________________________\n",
            "block5_conv1 (Conv2D)        (None, 14, 14, 512)       2359808   \n",
            "_________________________________________________________________\n",
            "block5_conv2 (Conv2D)        (None, 14, 14, 512)       2359808   \n",
            "_________________________________________________________________\n",
            "block5_conv3 (Conv2D)        (None, 14, 14, 512)       2359808   \n",
            "_________________________________________________________________\n",
            "block5_pool (MaxPooling2D)   (None, 7, 7, 512)         0         \n",
            "_________________________________________________________________\n",
            "flatten (Flatten)            (None, 25088)             0         \n",
            "_________________________________________________________________\n",
            "fc1 (Dense)                  (None, 4096)              102764544 \n",
            "_________________________________________________________________\n",
            "fc2 (Dense)                  (None, 4096)              16781312  \n",
            "_________________________________________________________________\n",
            "predictions (Dense)          (None, 1000)              4097000   \n",
            "=================================================================\n",
            "Total params: 138,357,544\n",
            "Trainable params: 138,357,544\n",
            "Non-trainable params: 0\n",
            "_________________________________________________________________\n"
          ],
          "name": "stdout"
        }
      ]
    },
    {
      "cell_type": "code",
      "metadata": {
        "colab": {
          "base_uri": "https://localhost:8080/"
        },
        "id": "jvnrxza1AfBS",
        "outputId": "4c81c386-5bfb-4348-9373-468fb661a722"
      },
      "source": [
        "# save features and labels\n",
        "h5f_data = h5py.File(features_path, 'w')\n",
        "h5f_data.create_dataset('dataset_1', data=np.array(features))\n",
        "\n",
        "h5f_label = h5py.File(labels_path, 'w')\n",
        "h5f_label.create_dataset('dataset_1', data=np.array(le_labels))\n",
        "\n",
        "h5f_data.close()\n",
        "h5f_label.close()\n",
        "\n",
        "# save model and weights\n",
        "model_json = model.to_json()\n",
        "with open(model_path + str(test_size) + \".json\", \"w\") as json_file:\n",
        "    json_file.write(model_json)\n",
        "\n",
        "# save weights\n",
        "model.save_weights(model_path + str(test_size) + \".h5\")\n",
        "print(\"Saved model and weights to disk.\")\n",
        "\n",
        "print (\"Features and labels saved.\")"
      ],
      "execution_count": null,
      "outputs": [
        {
          "output_type": "stream",
          "text": [
            "Saved model and weights to disk.\n",
            "Features and labels saved.\n"
          ],
          "name": "stdout"
        }
      ]
    },
    {
      "cell_type": "code",
      "metadata": {
        "id": "TSpY_npyAfBS"
      },
      "source": [
        "# config variables\n",
        "test_size     = config[\"test_size\"]\n",
        "seed      = config[\"seed\"]\n",
        "features_path   = config[\"features_path\"]\n",
        "labels_path   = config[\"labels_path\"]\n",
        "classifier_path = config[\"classifier_path\"]"
      ],
      "execution_count": null,
      "outputs": []
    },
    {
      "cell_type": "code",
      "metadata": {
        "id": "wHIpHbV_I7nn"
      },
      "source": [
        "# import features and labels\n",
        "h5f_data  = h5py.File(features_path, 'r')\n",
        "h5f_label = h5py.File(labels_path, 'r')\n",
        "\n",
        "features_string = h5f_data['dataset_1']\n",
        "labels_string   = h5f_label['dataset_1']\n",
        "\n",
        "features = np.array(features_string)\n",
        "labels   = np.array(labels_string)\n",
        "\n",
        "h5f_data.close()\n",
        "h5f_label.close()"
      ],
      "execution_count": null,
      "outputs": []
    },
    {
      "cell_type": "code",
      "metadata": {
        "colab": {
          "base_uri": "https://localhost:8080/"
        },
        "id": "SmSYFx7UI7kO",
        "outputId": "be160d2d-9403-41ab-890d-32791246291f"
      },
      "source": [
        "labels.shape"
      ],
      "execution_count": null,
      "outputs": [
        {
          "output_type": "execute_result",
          "data": {
            "text/plain": [
              "(1840,)"
            ]
          },
          "metadata": {
            "tags": []
          },
          "execution_count": 12
        }
      ]
    },
    {
      "cell_type": "code",
      "metadata": {
        "colab": {
          "base_uri": "https://localhost:8080/"
        },
        "id": "kP0BIB4vI7hM",
        "outputId": "26b35f97-d80e-41b3-e798-eab02329019c"
      },
      "source": [
        "# verify the shape of features and labels\n",
        "print (\"[INFO] features shape: {}\".format(features.shape))\n",
        "print (\"[INFO] labels shape: {}\".format(labels.shape))\n",
        "\n",
        "print (\"[INFO] training started...\")\n",
        "# split the training and testing data\n",
        "(trainData, testData, trainLabels, testLabels) = train_test_split(np.array(features),\n",
        "                                                                  np.array(labels),\n",
        "                                                                  test_size=test_size,\n",
        "                                                                  random_state=seed)\n",
        "\n",
        "print (\"[INFO] splitted train and test data...\")\n",
        "print (\"[INFO] train data  : {}\".format(trainData.shape))\n",
        "print (\"[INFO] test data   : {}\".format(testData.shape))\n",
        "print (\"[INFO] train labels: {}\".format(trainLabels.shape))\n",
        "print (\"[INFO] test labels : {}\".format(testLabels.shape))"
      ],
      "execution_count": null,
      "outputs": [
        {
          "output_type": "stream",
          "text": [
            "[INFO] features shape: (1840, 4096)\n",
            "[INFO] labels shape: (1840,)\n",
            "[INFO] training started...\n",
            "[INFO] splitted train and test data...\n",
            "[INFO] train data  : (1472, 4096)\n",
            "[INFO] test data   : (368, 4096)\n",
            "[INFO] train labels: (1472,)\n",
            "[INFO] test labels : (368,)\n"
          ],
          "name": "stdout"
        }
      ]
    },
    {
      "cell_type": "code",
      "metadata": {
        "colab": {
          "base_uri": "https://localhost:8080/"
        },
        "id": "yu0zvLHQI7eO",
        "outputId": "837274f5-8222-4382-ea98-cc6e429b7464"
      },
      "source": [
        "# use logistic regression as the model\n",
        "print (\"[INFO] creating model...\")\n",
        "model = LogisticRegression(random_state=seed)\n",
        "model.fit(trainData, trainLabels)"
      ],
      "execution_count": null,
      "outputs": [
        {
          "output_type": "stream",
          "text": [
            "[INFO] creating model...\n"
          ],
          "name": "stdout"
        },
        {
          "output_type": "execute_result",
          "data": {
            "text/plain": [
              "LogisticRegression(C=1.0, class_weight=None, dual=False, fit_intercept=True,\n",
              "                   intercept_scaling=1, l1_ratio=None, max_iter=100,\n",
              "                   multi_class='auto', n_jobs=None, penalty='l2',\n",
              "                   random_state=9, solver='lbfgs', tol=0.0001, verbose=0,\n",
              "                   warm_start=False)"
            ]
          },
          "metadata": {
            "tags": []
          },
          "execution_count": 14
        }
      ]
    },
    {
      "cell_type": "code",
      "metadata": {
        "id": "_P1b_vSbI7bL"
      },
      "source": [
        "# evaluate the model of test data\n",
        "preds = model.predict(testData)"
      ],
      "execution_count": null,
      "outputs": []
    },
    {
      "cell_type": "code",
      "metadata": {
        "colab": {
          "base_uri": "https://localhost:8080/"
        },
        "id": "1wvXpqoxI7YV",
        "outputId": "23f2941e-71bc-483c-f0e5-5cd74144242b"
      },
      "source": [
        "# dump classifier to file\n",
        "print (\"[INFO] saving model...\")\n",
        "pickle.dump(model, open(classifier_path, 'wb'))"
      ],
      "execution_count": null,
      "outputs": [
        {
          "output_type": "stream",
          "text": [
            "[INFO] saving model...\n"
          ],
          "name": "stdout"
        }
      ]
    },
    {
      "cell_type": "code",
      "metadata": {
        "colab": {
          "base_uri": "https://localhost:8080/"
        },
        "id": "2h1kxTyLI7VK",
        "outputId": "d008f4db-770e-47af-f9aa-d1f71eb36db1"
      },
      "source": [
        "# display the confusion matrix\n",
        "print (\"[INFO] confusion matrix\")\n",
        "\n",
        "# plot the confusion matrix\n",
        "cm = confusion_matrix(testLabels, preds)"
      ],
      "execution_count": null,
      "outputs": [
        {
          "output_type": "stream",
          "text": [
            "[INFO] confusion matrix\n"
          ],
          "name": "stdout"
        }
      ]
    },
    {
      "cell_type": "code",
      "metadata": {
        "colab": {
          "base_uri": "https://localhost:8080/"
        },
        "id": "gL0YoBq0JGz7",
        "outputId": "4c7d370c-9208-40af-ec02-dc00d943b7b2"
      },
      "source": [
        "cm"
      ],
      "execution_count": null,
      "outputs": [
        {
          "output_type": "execute_result",
          "data": {
            "text/plain": [
              "array([[172,  14],\n",
              "       [ 19, 163]])"
            ]
          },
          "metadata": {
            "tags": []
          },
          "execution_count": 18
        }
      ]
    },
    {
      "cell_type": "code",
      "metadata": {
        "colab": {
          "base_uri": "https://localhost:8080/"
        },
        "id": "GJak6DYJJGwj",
        "outputId": "cb3c9db0-1e02-45c2-d0c9-77784717b9f1"
      },
      "source": [
        "accuracy = ((368-(14+19))/368)*100\n",
        "accuracy"
      ],
      "execution_count": null,
      "outputs": [
        {
          "output_type": "execute_result",
          "data": {
            "text/plain": [
              "91.03260869565217"
            ]
          },
          "metadata": {
            "tags": []
          },
          "execution_count": 22
        }
      ]
    },
    {
      "cell_type": "code",
      "metadata": {
        "colab": {
          "base_uri": "https://localhost:8080/",
          "height": 265
        },
        "id": "8F8wZwzyJGt9",
        "outputId": "0ea5de5c-1650-4826-919d-5b02e41bc981"
      },
      "source": [
        "sns.heatmap(cm, annot=True, cmap=\"Set2\")\n",
        "plt.show()"
      ],
      "execution_count": null,
      "outputs": [
        {
          "output_type": "display_data",
          "data": {
            "image/png": "[encoded data removed]",
            "text/plain": [
              "<Figure size 432x288 with 2 Axes>"
            ]
          },
          "metadata": {
            "tags": [],
            "needs_background": "light"
          }
        }
      ]
    },
    {
      "cell_type": "code",
      "metadata": {
        "colab": {
          "base_uri": "https://localhost:8080/"
        },
        "id": "ADygiAnVJGrO",
        "outputId": "26ecbf25-9500-4356-ed38-34432361e55f"
      },
      "source": [
        "# load the trained logistic regression classifier\n",
        "print (\"[INFO] loading the classifier...\")\n",
        "classifier = pickle.load(open(config[\"classifier_path\"], 'rb'))\n",
        "\n",
        "# pretrained models needed to perform feature extraction on test data too!\n",
        "if config[\"model\"] == \"vgg16\":\n",
        "\tbase_model = VGG16(weights=config[\"weights\"])\n",
        "\tmodel = Model(inputs=base_model.input, outputs=base_model.get_layer('fc1').output)\n",
        "\timage_size = (224, 224)\n",
        "\n",
        "else:\n",
        "\tbase_model = None"
      ],
      "execution_count": null,
      "outputs": [
        {
          "output_type": "stream",
          "text": [
            "[INFO] loading the classifier...\n"
          ],
          "name": "stdout"
        }
      ]
    },
    {
      "cell_type": "code",
      "metadata": {
        "id": "xIJtytVTI7Fg"
      },
      "source": [
        "def pipe2(image_path, model, classifier):\n",
        "    urllib.request.urlretrieve(image_path, 'image.jpg')\n",
        "    img = image.load_img('image.jpg', target_size=(224,224))\n",
        "    x = image.img_to_array(img)\n",
        "    x = np.expand_dims(x, axis=0)\n",
        "    x = preprocess_input(x)\n",
        "    feature = model.predict(x)\n",
        "    flat = feature.flatten()\n",
        "    flat = np.expand_dims(flat, axis=0)\n",
        "    preds = classifier.predict(flat)\n",
        "    print(\"Validating that damage exists....\")\n",
        "    if(preds[0]==0):\n",
        "        print(\"Validation complete - Car is found to be damaged. Proceed to location and severity determination!!\")\n",
        "    else:\n",
        "        print (\"Are you sure that your car is damaged? Please submit another picture of the damage.\")\n",
        "        print (\"Hint: Try zooming in/out, using a different angle or different lighting\")      "
      ],
      "execution_count": null,
      "outputs": []
    },
    {
      "cell_type": "code",
      "metadata": {
        "colab": {
          "base_uri": "https://localhost:8080/"
        },
        "id": "jlCijdAHTO21",
        "outputId": "845d304f-3e40-4a59-bb87-8e08a1247a1f"
      },
      "source": [
        "pipe2('http://3.bp.blogspot.com/-PrRY9XxCqYQ/UDNutnMI7LI/AAAAAAAABdw/UGygghh-hRA/s1600/Bumper+scuff.JPG', model, classifier)"
      ],
      "execution_count": null,
      "outputs": [
        {
          "output_type": "stream",
          "text": [
            "Validating that damage exists....\n",
            "Validation complete - Car is found to be damaged. Proceed to location and severity determination!!\n"
          ],
          "name": "stdout"
        }
      ]
    },
    {
      "cell_type": "code",
      "metadata": {
        "colab": {
          "base_uri": "https://localhost:8080/"
        },
        "id": "snJyZMSoTib0",
        "outputId": "5e868048-748a-4666-9d79-c9a14fd33de1"
      },
      "source": [
        "pipe2('https://www.hdnicewallpapers.com/Walls/Big/Rolls%20Royce/2018_Rolls_Royce_Ghost_Series_II_Black_Car.jpg', model, classifier)"
      ],
      "execution_count": null,
      "outputs": [
        {
          "output_type": "stream",
          "text": [
            "Validating that damage exists....\n",
            "Are you sure that your car is damaged? Please submit another picture of the damage.\n",
            "Hint: Try zooming in/out, using a different angle or different lighting\n"
          ],
          "name": "stdout"
        }
      ]
    },
    {
      "cell_type": "code",
      "metadata": {
        "colab": {
          "base_uri": "https://localhost:8080/"
        },
        "id": "i3NsWM99UHyK",
        "outputId": "9a770d68-59dc-44e9-9fe1-90cd3cec50e9"
      },
      "source": [
        "pipe2('https://www.side.cr/wp-content/uploads/2018/09/Connecticut-Sell-Damaged-Car.jpg', model, classifier)"
      ],
      "execution_count": null,
      "outputs": [
        {
          "output_type": "stream",
          "text": [
            "Validating that damage exists....\n",
            "Validation complete - Car is found to be damaged. Proceed to location and severity determination!!\n"
          ],
          "name": "stdout"
        }
      ]
    },
    {
      "cell_type": "code",
      "metadata": {
        "id": "TJatQcbDUNhC"
      },
      "source": [
        ""
      ],
      "execution_count": null,
      "outputs": []
    }
  ]
}